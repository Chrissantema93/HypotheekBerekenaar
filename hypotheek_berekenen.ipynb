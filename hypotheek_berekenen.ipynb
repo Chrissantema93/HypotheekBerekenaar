{
 "metadata": {
  "language_info": {
   "codemirror_mode": {
    "name": "ipython",
    "version": 3
   },
   "file_extension": ".py",
   "mimetype": "text/x-python",
   "name": "python",
   "nbconvert_exporter": "python",
   "pygments_lexer": "ipython3",
   "version": "3.7.2-final"
  },
  "orig_nbformat": 2,
  "kernelspec": {
   "name": "python372jvsc74a57bd04a4131f4b61c98856ec7300b82859a8caa1fd6fdd653dbf5157bab1a0dd486eb",
   "display_name": "Python 3.7.2 64-bit"
  }
 },
 "nbformat": 4,
 "nbformat_minor": 2,
 "cells": [
  {
   "cell_type": "code",
   "execution_count": 34,
   "metadata": {},
   "outputs": [],
   "source": [
    "belasting_percentage_laag = 0.371\n",
    "belasting_percentage_hoog = 0.495\n",
    "belasting_top_bedrag = 68508\n",
    "\n",
    "jaar = 12\n",
    "vakantiegeld_13e_maand = 13.96\n",
    "looptijd_hypotheek = 360 # in maanden\n",
    "hypotheek_bedrag = 145000\n",
    "rente_percentage = 0.015\n",
    "\n",
    "gemiddelde_loonstijging_percentage = 1.03\n",
    "\n",
    "algemene_heffingskorting_ondergrens = 21043\n",
    "algemene_heffingskorting_middengrens = 68507\n",
    "algemene_heffingskorting_middengrens_percentage = 0.05977\n",
    "algemene_heffingskorting_ondergrens_bedrag = 2837\n",
    "\n",
    "woz_waarde = 17400\n",
    "woz_waardes = [127000, 132000, 133000, 132000,135000, 153000, 174000]\n",
    "woz_groei = 7.8\n",
    "taxatie_waarde = 202000\n",
    "\n",
    "\n",
    "maandsalaris_bruto = 3200\n",
    "totaal_jaarsalaris = maandsalaris_bruto * vakantiegeld_13e_maand\n",
    "\n",
    "pensioen_heffing = 138\n",
    "pensioen_heffing_jaar = pensioen_heffing * jaar\n",
    "totaal_jaarsalaris_exclusief = (maandsalaris_bruto - pensioen_heffing) * jaar\n",
    "import pandas as pd\n"
   ]
  },
  {
   "cell_type": "code",
   "execution_count": 6,
   "metadata": {},
   "outputs": [],
   "source": [
    "def bereken_heffingskorting(totaal_inkomen):\n",
    "    if totaal_inkomen <= algemene_heffingskorting_ondergrens:\n",
    "        return algemene_heffingskorting_ondergrens_bedrag\n",
    "    elif totaal_inkomen <= algemene_heffingskorting_middengrens:\n",
    "        return algemene_heffingskorting_ondergrens_bedrag - (algemene_heffingskorting_middengrens_percentage * (totaal_inkomen - algemene_heffingskorting_ondergrens))\n",
    "    else:\n",
    "        return 0"
   ]
  },
  {
   "cell_type": "code",
   "execution_count": 7,
   "metadata": {},
   "outputs": [],
   "source": [
    "def bereken_arbeidskorting(arbeids_inkomen):\n",
    "    arbeidskorting_beginbedrag = 4205\n",
    "    arbeidskorting_percentage = 0.06\n",
    "    arbeidskorting_grens = 35652\n",
    "    return arbeidskorting_beginbedrag - arbeidskorting_percentage * (arbeids_inkomen - arbeidskorting_grens)\n"
   ]
  },
  {
   "cell_type": "code",
   "execution_count": 214,
   "metadata": {},
   "outputs": [],
   "source": [
    "def bereken_belasting(totaal_inkomen):\n",
    "    belasting_bedrag = 0\n",
    "    schijf_1_belasting = 0\n",
    "    schijf_2_belasting = 0\n",
    "    if totaal_inkomen >= belasting_top_bedrag:\n",
    "        schijf_1_belasting = belasting_top_bedrag * belasting_percentage_laag\n",
    "        schijf_2_belasting = (totaal_inkomen - belasting_top_bedrag) * belasting_percentage_hoog\n",
    "        belasting_bedrag = schijf_1_belasting + schijf_2_belasting\n",
    "    else:\n",
    "        belasting_bedrag = totaal_inkomen * belasting_percentage_laag\n",
    "        schijf_1_belasting = belasting_bedrag\n",
    "    return [belasting_bedrag, schijf_1_belasting, schijf_2_belasting]"
   ]
  },
  {
   "cell_type": "code",
   "execution_count": 217,
   "metadata": {},
   "outputs": [],
   "source": [
    "def bereken_netto_salaris(salaris, aftrekposten, jaar, woning=True):\n",
    "    belastbaar_inkomen = salaris - aftrekposten\n",
    "    arbeidskorting_bedrag = bereken_arbeidskorting(salaris)\n",
    "    heffingskorting_bedrag = bereken_heffingskorting(salaris)\n",
    "    if woning:\n",
    "        forfait = bereken_woz_waarde(woz_waarde, jaar) * 0.05\n",
    "        belastbaar_inkomen = belastbaar_inkomen + forfait\n",
    "    belasting_bedrag_totaal = bereken_belasting(belastbaar_inkomen)\n",
    "    belasting_bedrag_met_kortingen = belasting_bedrag_totaal[0] - arbeidskorting_bedrag - heffingskorting_bedrag\n",
    "    return [salaris - belasting_bedrag_met_kortingen, belasting_bedrag_totaal[0], aftrekposten, belasting_bedrag_totaal[1], belasting_bedrag_totaal[2]]"
   ]
  },
  {
   "cell_type": "code",
   "execution_count": 218,
   "metadata": {},
   "outputs": [
    {
     "output_type": "execute_result",
     "data": {
      "text/plain": [
       "[32916.83343, 15093.764, 2000, 15093.764, 0]"
      ]
     },
     "metadata": {},
     "execution_count": 218
    }
   ],
   "source": [
    "bereken_netto_salaris(42684, 2000,  1, False)"
   ]
  },
  {
   "cell_type": "code",
   "execution_count": 219,
   "metadata": {},
   "outputs": [],
   "source": [
    "def bereken_woz_waarde(woz_waarde, jaar):\n",
    "    return woz_waarde + (jaar * woz_groei)"
   ]
  },
  {
   "cell_type": "code",
   "execution_count": 305,
   "metadata": {},
   "outputs": [],
   "source": [
    "def bereken_annuiteit(totaal_bedrag, rente_percentage, resterende_tijd = 360):\n",
    "    maandrente = rente_percentage / 12\n",
    "    return (maandrente / (1 - ((1 + maandrente) ** -resterende_tijd))) * totaal_bedrag"
   ]
  },
  {
   "cell_type": "code",
   "execution_count": 306,
   "metadata": {},
   "outputs": [],
   "source": [
    "def bereken_aflosvrij_hypotheek(totaal_bedrag, rente_percentage):\n",
    "    return totaal_bedrag * rente_percentage\n",
    "        "
   ]
  },
  {
   "cell_type": "code",
   "execution_count": 307,
   "metadata": {},
   "outputs": [],
   "source": [
    "def bereken_woonlastenwijzer(restsom, rente_vast, rente):\n",
    "    taxatie_waarde = 202000\n",
    "    restschuld_percentage = (restsom / taxatie_waarde) * 100\n",
    "    if rente_vast == 10:\n",
    "        if restschuld_percentage <= 55:\n",
    "            return 0.0106 \n",
    "        elif restschuld_percentage <= 60:\n",
    "            return 0.0109 \n",
    "        elif restschuld_percentage <= 65:\n",
    "            return 0.0111 \n",
    "        elif restschuld_percentage <= 70:\n",
    "            return 0.0113\n",
    "        elif restschuld_percentage <= 75:\n",
    "            return 0.0117\n",
    "    elif rente_vast == 20:\n",
    "        if restschuld_percentage <= 55:\n",
    "            return 0.0143 \n",
    "        elif restschuld_percentage <= 60:\n",
    "            return 0.0146 \n",
    "        elif restschuld_percentage <= 65:\n",
    "            return 0.0148 \n",
    "        elif restschuld_percentage <= 70:\n",
    "            return 0.0150\n",
    "        elif restschuld_percentage <= 75:\n",
    "            return 0.0154\n",
    "    else:\n",
    "        return rente\n",
    "    "
   ]
  },
  {
   "cell_type": "code",
   "execution_count": 308,
   "metadata": {
    "tags": []
   },
   "outputs": [],
   "source": [
    "# annuit hypotheek\n",
    "\n",
    "def bereken_annuit_hypotheek(totaal_bedrag, rente_percentage, rentevaste_periode=30, rente_percentage_variabel = 0, verstrekker='overig'):\n",
    "    rentevaste_maanden = rentevaste_periode * 12\n",
    "    annuiteit = bereken_annuiteit(totaal_bedrag, rente_percentage)\n",
    "    rente_jaren_dict = {}\n",
    "    jaren = 0\n",
    "    rentebedrag_jaar = 0\n",
    "    actuele_rente = 0\n",
    "    for i in range(360):\n",
    "        x = i + 1\n",
    "        if i < rentevaste_maanden:\n",
    "            if verstrekker == 'ING':\n",
    "                actuele_rente = (bereken_woonlastenwijzer(totaal_bedrag, rentevaste_periode, rente_percentage))\n",
    "                rente = (totaal_bedrag * actuele_rente) / 12\n",
    "                annuiteit = bereken_annuiteit(totaal_bedrag, actuele_rente, 360-x)\n",
    "            else:\n",
    "                rente = (totaal_bedrag * rente_percentage) / 12\n",
    "        else:\n",
    "            rente = (totaal_bedrag * rente_percentage_variabel) / 12\n",
    "            actuele_rente = rente_percentage_variabel\n",
    "            annuiteit = bereken_annuiteit(totaal_bedrag, actuele_rente, 360-x)\n",
    "        rentebedrag_jaar += rente\n",
    "        aflossing = annuiteit - rente\n",
    "        totaal_bedrag = totaal_bedrag - aflossing\n",
    "        if x % 12 == 0:\n",
    "            jaren += 1\n",
    "            rente_jaren_dict[jaren] = [rentebedrag_jaar, totaal_bedrag, actuele_rente, aflossing]\n",
    "            rentebedrag_jaar = 0\n",
    "\n",
    "        # print('maand', x, 'totaalbedrag', \"{:.0f}\".format(totaal_bedrag), 'aflossing', \"{:.0f}\".format(aflossing), 'rente', \"{:.0f}\".format(rente), 'maandbedrag', \"{:.0f}\".format(aflossing+rente))\n",
    "    return rente_jaren_dict\n",
    "\n",
    "\n",
    "\n"
   ]
  },
  {
   "cell_type": "code",
   "execution_count": 309,
   "metadata": {},
   "outputs": [
    {
     "output_type": "error",
     "ename": "ZeroDivisionError",
     "evalue": "float division by zero",
     "traceback": [
      "\u001b[1;31m---------------------------------------------------------------------------\u001b[0m",
      "\u001b[1;31mZeroDivisionError\u001b[0m                         Traceback (most recent call last)",
      "\u001b[1;32m<ipython-input-309-ebfd6bb2bedc>\u001b[0m in \u001b[0;36m<module>\u001b[1;34m\u001b[0m\n\u001b[1;32m----> 1\u001b[1;33m \u001b[0mrente_bedragen_annuiteit_20_vast_ing\u001b[0m \u001b[1;33m=\u001b[0m \u001b[0mbereken_annuit_hypotheek\u001b[0m\u001b[1;33m(\u001b[0m\u001b[0mhypotheek_bedrag\u001b[0m\u001b[1;33m,\u001b[0m \u001b[1;36m0.0154\u001b[0m\u001b[1;33m,\u001b[0m \u001b[1;36m20\u001b[0m\u001b[1;33m,\u001b[0m \u001b[1;36m0.05\u001b[0m\u001b[1;33m,\u001b[0m \u001b[1;34m'ING'\u001b[0m\u001b[1;33m)\u001b[0m\u001b[1;33m\u001b[0m\u001b[1;33m\u001b[0m\u001b[0m\n\u001b[0m\u001b[0;32m      2\u001b[0m \u001b[0mrente_bedragen_annuiteit_20_vast_ing_values\u001b[0m \u001b[1;33m=\u001b[0m \u001b[1;33m[\u001b[0m\u001b[0mel\u001b[0m\u001b[1;33m[\u001b[0m\u001b[1;36m0\u001b[0m\u001b[1;33m]\u001b[0m \u001b[1;32mfor\u001b[0m \u001b[0mel\u001b[0m \u001b[1;32min\u001b[0m \u001b[0mrente_bedragen_annuiteit_20_vast_ing\u001b[0m\u001b[1;33m.\u001b[0m\u001b[0mvalues\u001b[0m\u001b[1;33m(\u001b[0m\u001b[1;33m)\u001b[0m\u001b[1;33m]\u001b[0m\u001b[1;33m\u001b[0m\u001b[1;33m\u001b[0m\u001b[0m\n\u001b[0;32m      3\u001b[0m \u001b[0mtotaal_bedrag_aan_rente_20_vast_ing\u001b[0m \u001b[1;33m=\u001b[0m \u001b[0msum\u001b[0m\u001b[1;33m(\u001b[0m\u001b[0mrente_bedragen_annuiteit_20_vast_ing_values\u001b[0m\u001b[1;33m)\u001b[0m\u001b[1;33m\u001b[0m\u001b[1;33m\u001b[0m\u001b[0m\n\u001b[0;32m      4\u001b[0m \u001b[0mtotaal_bedrag_aan_rente_20_vast_ing\u001b[0m\u001b[1;33m\u001b[0m\u001b[1;33m\u001b[0m\u001b[0m\n",
      "\u001b[1;32m<ipython-input-308-1072d6b2886f>\u001b[0m in \u001b[0;36mbereken_annuit_hypotheek\u001b[1;34m(totaal_bedrag, rente_percentage, rentevaste_periode, rente_percentage_variabel, verstrekker)\u001b[0m\n\u001b[0;32m     20\u001b[0m             \u001b[0mrente\u001b[0m \u001b[1;33m=\u001b[0m \u001b[1;33m(\u001b[0m\u001b[0mtotaal_bedrag\u001b[0m \u001b[1;33m*\u001b[0m \u001b[0mrente_percentage_variabel\u001b[0m\u001b[1;33m)\u001b[0m \u001b[1;33m/\u001b[0m \u001b[1;36m12\u001b[0m\u001b[1;33m\u001b[0m\u001b[1;33m\u001b[0m\u001b[0m\n\u001b[0;32m     21\u001b[0m             \u001b[0mactuele_rente\u001b[0m \u001b[1;33m=\u001b[0m \u001b[0mrente_percentage_variabel\u001b[0m\u001b[1;33m\u001b[0m\u001b[1;33m\u001b[0m\u001b[0m\n\u001b[1;32m---> 22\u001b[1;33m             \u001b[0mannuiteit\u001b[0m \u001b[1;33m=\u001b[0m \u001b[0mbereken_annuiteit\u001b[0m\u001b[1;33m(\u001b[0m\u001b[0mtotaal_bedrag\u001b[0m\u001b[1;33m,\u001b[0m \u001b[0mactuele_rente\u001b[0m\u001b[1;33m,\u001b[0m \u001b[1;36m360\u001b[0m\u001b[1;33m-\u001b[0m\u001b[0mx\u001b[0m\u001b[1;33m)\u001b[0m\u001b[1;33m\u001b[0m\u001b[1;33m\u001b[0m\u001b[0m\n\u001b[0m\u001b[0;32m     23\u001b[0m         \u001b[0mrentebedrag_jaar\u001b[0m \u001b[1;33m+=\u001b[0m \u001b[0mrente\u001b[0m\u001b[1;33m\u001b[0m\u001b[1;33m\u001b[0m\u001b[0m\n\u001b[0;32m     24\u001b[0m         \u001b[0maflossing\u001b[0m \u001b[1;33m=\u001b[0m \u001b[0mannuiteit\u001b[0m \u001b[1;33m-\u001b[0m \u001b[0mrente\u001b[0m\u001b[1;33m\u001b[0m\u001b[1;33m\u001b[0m\u001b[0m\n",
      "\u001b[1;32m<ipython-input-305-2ec6e3719756>\u001b[0m in \u001b[0;36mbereken_annuiteit\u001b[1;34m(totaal_bedrag, rente_percentage, resterende_tijd)\u001b[0m\n\u001b[0;32m      1\u001b[0m \u001b[1;32mdef\u001b[0m \u001b[0mbereken_annuiteit\u001b[0m\u001b[1;33m(\u001b[0m\u001b[0mtotaal_bedrag\u001b[0m\u001b[1;33m,\u001b[0m \u001b[0mrente_percentage\u001b[0m\u001b[1;33m,\u001b[0m \u001b[0mresterende_tijd\u001b[0m \u001b[1;33m=\u001b[0m \u001b[1;36m360\u001b[0m\u001b[1;33m)\u001b[0m\u001b[1;33m:\u001b[0m\u001b[1;33m\u001b[0m\u001b[1;33m\u001b[0m\u001b[0m\n\u001b[0;32m      2\u001b[0m     \u001b[0mmaandrente\u001b[0m \u001b[1;33m=\u001b[0m \u001b[0mrente_percentage\u001b[0m \u001b[1;33m/\u001b[0m \u001b[1;36m12\u001b[0m\u001b[1;33m\u001b[0m\u001b[1;33m\u001b[0m\u001b[0m\n\u001b[1;32m----> 3\u001b[1;33m     \u001b[1;32mreturn\u001b[0m \u001b[1;33m(\u001b[0m\u001b[0mmaandrente\u001b[0m \u001b[1;33m/\u001b[0m \u001b[1;33m(\u001b[0m\u001b[1;36m1\u001b[0m \u001b[1;33m-\u001b[0m \u001b[1;33m(\u001b[0m\u001b[1;33m(\u001b[0m\u001b[1;36m1\u001b[0m \u001b[1;33m+\u001b[0m \u001b[0mmaandrente\u001b[0m\u001b[1;33m)\u001b[0m \u001b[1;33m**\u001b[0m \u001b[1;33m-\u001b[0m\u001b[0mresterende_tijd\u001b[0m\u001b[1;33m)\u001b[0m\u001b[1;33m)\u001b[0m\u001b[1;33m)\u001b[0m \u001b[1;33m*\u001b[0m \u001b[0mtotaal_bedrag\u001b[0m\u001b[1;33m\u001b[0m\u001b[1;33m\u001b[0m\u001b[0m\n\u001b[0m",
      "\u001b[1;31mZeroDivisionError\u001b[0m: float division by zero"
     ]
    }
   ],
   "source": [
    "rente_bedragen_annuiteit_20_vast_ing = bereken_annuit_hypotheek(hypotheek_bedrag, 0.0154, 20, 0.05, 'ING')\n",
    "rente_bedragen_annuiteit_20_vast_ing_values = [el[0] for el in rente_bedragen_annuiteit_20_vast_ing.values()]\n",
    "totaal_bedrag_aan_rente_20_vast_ing = sum(rente_bedragen_annuiteit_20_vast_ing_values)\n",
    "totaal_bedrag_aan_rente_20_vast_ing\n"
   ]
  },
  {
   "cell_type": "code",
   "execution_count": 310,
   "metadata": {},
   "outputs": [],
   "source": [
    "from dateutil.relativedelta import relativedelta\n",
    "from datetime import datetime\n",
    "\n",
    "def bereken_netto_salaris_en_belasting(hypotheek_bedrag, rente_percentage, hoeveel_jaar, type_hypotheek, rentevaste_periode = 30, rente_na_vaste = 0, verstrekker = 'overig'):\n",
    "    bruto_salaris = totaal_jaarsalaris\n",
    "    kolommen = ['Label', 'Hypotheektype', 'Hypotheekbedrag', 'Rentepercentage begin', 'Rentepercentage actueel', 'Restschuld', 'Aflossing','Rentevaste periode', 'Verstrekker', 'Jaar', 'Datum', 'Bruto', 'Netto', 'Bedrag kwijt', 'Percentage kwijt', 'Jaarlasten hypotheek', 'Netto salaris na hypotheeklasten', 'Aftrekposten', 'Belasting totaal', 'Schijf 1 belasting', 'Schijf 2 belasting']\n",
    "    dataframe = pd.DataFrame(columns=kolommen)\n",
    "    for i in range(hoeveel_jaar):\n",
    "        jaar = i + 1\n",
    "        jaar_lasten = 0\n",
    "        nu = datetime.now()\n",
    "        nieuwe_datum = (nu + relativedelta(years=jaar)).strftime(\"%Y-%m-%d\")\n",
    "        if type_hypotheek == 'aflosvrij':\n",
    "            netto_salaris = bereken_netto_salaris(bruto_salaris, 0, jaar)\n",
    "            jaar_lasten = bereken_aflosvrij_hypotheek(hypotheek_bedrag, rente_percentage)\n",
    "        elif type_hypotheek == 'annuit':\n",
    "            rente_bedragen_annuiteit = bereken_annuit_hypotheek(hypotheek_bedrag, rente_percentage, rentevaste_periode, rente_na_vaste, verstrekker)\n",
    "            rest_schuld = rente_bedragen_annuiteit[jaar][1]\n",
    "            actuele_rente = rente_bedragen_annuiteit[jaar][2]\n",
    "            netto_salaris = bereken_netto_salaris(bruto_salaris, rente_bedragen_annuiteit[jaar][0], jaar)\n",
    "            jaar_lasten = bereken_annuiteit(hypotheek_bedrag, rente_percentage) * 12\n",
    "        \n",
    "        belasting_bedrag = netto_salaris[0] - bruto_salaris\n",
    "        belasting_percentage = 100 - ((netto_salaris[0] / bruto_salaris) * 100)\n",
    "        rentepercentage_tekst = \"{:.2%}\".format(rente_percentage)\n",
    "        rij = {'Hypotheektype': type_hypotheek,\n",
    "        'Hypotheekbedrag' : hypotheek_bedrag,\n",
    "         'Jaar': jaar, \n",
    "         'Datum': nieuwe_datum,\n",
    "         'Rentepercentage begin' : rentepercentage_tekst,\n",
    "         'Rentepercentage actueel' : \"{:.2%}\".format(actuele_rente),\n",
    "         'Restschuld' : \"{:.2f}\".format(rest_schuld),\n",
    "         'Rentevaste periode' : rentevaste_periode,\n",
    "         'Verstrekker' : verstrekker,\n",
    "         'Label' :  f'{verstrekker} {rentevaste_periode} {rentepercentage_tekst}',\n",
    "         'Bruto': float(\"{:.2f}\".format(bruto_salaris)), \n",
    "         'Netto': float(\"{:.2f}\".format(netto_salaris[0])),\n",
    "         'Bedrag kwijt' : float(\"{:.2f}\".format(belasting_bedrag)),\n",
    "         'Percentage kwijt' : float(\"{:.2f}\".format(belasting_percentage)),\n",
    "         'Jaarlasten hypotheek' : float(\"{:.2f}\".format(jaar_lasten)),\n",
    "         'Netto salaris na hypotheeklasten' : float(\"{:.2f}\".format(netto_salaris[0] - jaar_lasten)),\n",
    "         'Belasting totaal': \"{:.2f}\".format(netto_salaris[1]),\n",
    "         'Aftrekposten' : \"{:.2f}\".format(netto_salaris[2]),\n",
    "         'Schijf 1 belasting': \"{:.2f}\".format(netto_salaris[3]),\n",
    "          'Schijf 2 belasting': \"{:.2f}\".format(netto_salaris[4]),\n",
    "          'Aflossing' : \"{:.2f}\".format(rente_bedragen_annuiteit[jaar][0])\n",
    "         }\n",
    "        dataframe = dataframe.append(rij, ignore_index = True)\n",
    "        bruto_salaris = bruto_salaris * gemiddelde_loonstijging_percentage\n",
    "    return dataframe\n",
    "        \n",
    "        \n",
    "\n",
    "# print('Jaar', jaar, 'Bruto',\"{:.0f}\".format(bruto_salaris), 'Netto', \"{:.0f}\".format(netto_salaris), 'Bedrag kwijt',\"{:.0f}\".format(belasting_bedrag), 'Percentage kwijt', \"{:.2f}\".format(belasting_percentage), 'Jaarlasten hypotheek', \"{:.0f}\".format(jaar_lasten), \"Netto salaris na hypotheeklasten\", \"{:.0f}\".format(netto_salaris - jaar_lasten))\n",
    "#nog berekenen met de maandlasten wat ik dan precies kwijt ben\n"
   ]
  },
  {
   "cell_type": "code",
   "execution_count": 311,
   "metadata": {},
   "outputs": [
    {
     "output_type": "error",
     "ename": "ZeroDivisionError",
     "evalue": "float division by zero",
     "traceback": [
      "\u001b[1;31m---------------------------------------------------------------------------\u001b[0m",
      "\u001b[1;31mZeroDivisionError\u001b[0m                         Traceback (most recent call last)",
      "\u001b[1;32m<ipython-input-311-18d7f773c347>\u001b[0m in \u001b[0;36m<module>\u001b[1;34m\u001b[0m\n\u001b[1;32m----> 1\u001b[1;33m \u001b[0mdf_10_annuit_ing\u001b[0m \u001b[1;33m=\u001b[0m  \u001b[0mbereken_netto_salaris_en_belasting\u001b[0m\u001b[1;33m(\u001b[0m\u001b[1;36m145000\u001b[0m\u001b[1;33m,\u001b[0m \u001b[1;36m0.0117\u001b[0m\u001b[1;33m,\u001b[0m \u001b[1;36m30\u001b[0m\u001b[1;33m,\u001b[0m \u001b[1;34m'annuit'\u001b[0m\u001b[1;33m,\u001b[0m \u001b[1;36m10\u001b[0m\u001b[1;33m,\u001b[0m \u001b[1;36m0.05\u001b[0m\u001b[1;33m,\u001b[0m \u001b[0mverstrekker\u001b[0m \u001b[1;33m=\u001b[0m\u001b[1;34m'ING'\u001b[0m\u001b[1;33m)\u001b[0m\u001b[1;33m\u001b[0m\u001b[1;33m\u001b[0m\u001b[0m\n\u001b[0m",
      "\u001b[1;32m<ipython-input-310-c8d849bbc9a0>\u001b[0m in \u001b[0;36mbereken_netto_salaris_en_belasting\u001b[1;34m(hypotheek_bedrag, rente_percentage, hoeveel_jaar, type_hypotheek, rentevaste_periode, rente_na_vaste, verstrekker)\u001b[0m\n\u001b[0;32m     15\u001b[0m             \u001b[0mjaar_lasten\u001b[0m \u001b[1;33m=\u001b[0m \u001b[0mbereken_aflosvrij_hypotheek\u001b[0m\u001b[1;33m(\u001b[0m\u001b[0mhypotheek_bedrag\u001b[0m\u001b[1;33m,\u001b[0m \u001b[0mrente_percentage\u001b[0m\u001b[1;33m)\u001b[0m\u001b[1;33m\u001b[0m\u001b[1;33m\u001b[0m\u001b[0m\n\u001b[0;32m     16\u001b[0m         \u001b[1;32melif\u001b[0m \u001b[0mtype_hypotheek\u001b[0m \u001b[1;33m==\u001b[0m \u001b[1;34m'annuit'\u001b[0m\u001b[1;33m:\u001b[0m\u001b[1;33m\u001b[0m\u001b[1;33m\u001b[0m\u001b[0m\n\u001b[1;32m---> 17\u001b[1;33m             \u001b[0mrente_bedragen_annuiteit\u001b[0m \u001b[1;33m=\u001b[0m \u001b[0mbereken_annuit_hypotheek\u001b[0m\u001b[1;33m(\u001b[0m\u001b[0mhypotheek_bedrag\u001b[0m\u001b[1;33m,\u001b[0m \u001b[0mrente_percentage\u001b[0m\u001b[1;33m,\u001b[0m \u001b[0mrentevaste_periode\u001b[0m\u001b[1;33m,\u001b[0m \u001b[0mrente_na_vaste\u001b[0m\u001b[1;33m,\u001b[0m \u001b[0mverstrekker\u001b[0m\u001b[1;33m)\u001b[0m\u001b[1;33m\u001b[0m\u001b[1;33m\u001b[0m\u001b[0m\n\u001b[0m\u001b[0;32m     18\u001b[0m             \u001b[0mrest_schuld\u001b[0m \u001b[1;33m=\u001b[0m \u001b[0mrente_bedragen_annuiteit\u001b[0m\u001b[1;33m[\u001b[0m\u001b[0mjaar\u001b[0m\u001b[1;33m]\u001b[0m\u001b[1;33m[\u001b[0m\u001b[1;36m1\u001b[0m\u001b[1;33m]\u001b[0m\u001b[1;33m\u001b[0m\u001b[1;33m\u001b[0m\u001b[0m\n\u001b[0;32m     19\u001b[0m             \u001b[0mactuele_rente\u001b[0m \u001b[1;33m=\u001b[0m \u001b[0mrente_bedragen_annuiteit\u001b[0m\u001b[1;33m[\u001b[0m\u001b[0mjaar\u001b[0m\u001b[1;33m]\u001b[0m\u001b[1;33m[\u001b[0m\u001b[1;36m2\u001b[0m\u001b[1;33m]\u001b[0m\u001b[1;33m\u001b[0m\u001b[1;33m\u001b[0m\u001b[0m\n",
      "\u001b[1;32m<ipython-input-308-1072d6b2886f>\u001b[0m in \u001b[0;36mbereken_annuit_hypotheek\u001b[1;34m(totaal_bedrag, rente_percentage, rentevaste_periode, rente_percentage_variabel, verstrekker)\u001b[0m\n\u001b[0;32m     20\u001b[0m             \u001b[0mrente\u001b[0m \u001b[1;33m=\u001b[0m \u001b[1;33m(\u001b[0m\u001b[0mtotaal_bedrag\u001b[0m \u001b[1;33m*\u001b[0m \u001b[0mrente_percentage_variabel\u001b[0m\u001b[1;33m)\u001b[0m \u001b[1;33m/\u001b[0m \u001b[1;36m12\u001b[0m\u001b[1;33m\u001b[0m\u001b[1;33m\u001b[0m\u001b[0m\n\u001b[0;32m     21\u001b[0m             \u001b[0mactuele_rente\u001b[0m \u001b[1;33m=\u001b[0m \u001b[0mrente_percentage_variabel\u001b[0m\u001b[1;33m\u001b[0m\u001b[1;33m\u001b[0m\u001b[0m\n\u001b[1;32m---> 22\u001b[1;33m             \u001b[0mannuiteit\u001b[0m \u001b[1;33m=\u001b[0m \u001b[0mbereken_annuiteit\u001b[0m\u001b[1;33m(\u001b[0m\u001b[0mtotaal_bedrag\u001b[0m\u001b[1;33m,\u001b[0m \u001b[0mactuele_rente\u001b[0m\u001b[1;33m,\u001b[0m \u001b[1;36m360\u001b[0m\u001b[1;33m-\u001b[0m\u001b[0mx\u001b[0m\u001b[1;33m)\u001b[0m\u001b[1;33m\u001b[0m\u001b[1;33m\u001b[0m\u001b[0m\n\u001b[0m\u001b[0;32m     23\u001b[0m         \u001b[0mrentebedrag_jaar\u001b[0m \u001b[1;33m+=\u001b[0m \u001b[0mrente\u001b[0m\u001b[1;33m\u001b[0m\u001b[1;33m\u001b[0m\u001b[0m\n\u001b[0;32m     24\u001b[0m         \u001b[0maflossing\u001b[0m \u001b[1;33m=\u001b[0m \u001b[0mannuiteit\u001b[0m \u001b[1;33m-\u001b[0m \u001b[0mrente\u001b[0m\u001b[1;33m\u001b[0m\u001b[1;33m\u001b[0m\u001b[0m\n",
      "\u001b[1;32m<ipython-input-305-2ec6e3719756>\u001b[0m in \u001b[0;36mbereken_annuiteit\u001b[1;34m(totaal_bedrag, rente_percentage, resterende_tijd)\u001b[0m\n\u001b[0;32m      1\u001b[0m \u001b[1;32mdef\u001b[0m \u001b[0mbereken_annuiteit\u001b[0m\u001b[1;33m(\u001b[0m\u001b[0mtotaal_bedrag\u001b[0m\u001b[1;33m,\u001b[0m \u001b[0mrente_percentage\u001b[0m\u001b[1;33m,\u001b[0m \u001b[0mresterende_tijd\u001b[0m \u001b[1;33m=\u001b[0m \u001b[1;36m360\u001b[0m\u001b[1;33m)\u001b[0m\u001b[1;33m:\u001b[0m\u001b[1;33m\u001b[0m\u001b[1;33m\u001b[0m\u001b[0m\n\u001b[0;32m      2\u001b[0m     \u001b[0mmaandrente\u001b[0m \u001b[1;33m=\u001b[0m \u001b[0mrente_percentage\u001b[0m \u001b[1;33m/\u001b[0m \u001b[1;36m12\u001b[0m\u001b[1;33m\u001b[0m\u001b[1;33m\u001b[0m\u001b[0m\n\u001b[1;32m----> 3\u001b[1;33m     \u001b[1;32mreturn\u001b[0m \u001b[1;33m(\u001b[0m\u001b[0mmaandrente\u001b[0m \u001b[1;33m/\u001b[0m \u001b[1;33m(\u001b[0m\u001b[1;36m1\u001b[0m \u001b[1;33m-\u001b[0m \u001b[1;33m(\u001b[0m\u001b[1;33m(\u001b[0m\u001b[1;36m1\u001b[0m \u001b[1;33m+\u001b[0m \u001b[0mmaandrente\u001b[0m\u001b[1;33m)\u001b[0m \u001b[1;33m**\u001b[0m \u001b[1;33m-\u001b[0m\u001b[0mresterende_tijd\u001b[0m\u001b[1;33m)\u001b[0m\u001b[1;33m)\u001b[0m\u001b[1;33m)\u001b[0m \u001b[1;33m*\u001b[0m \u001b[0mtotaal_bedrag\u001b[0m\u001b[1;33m\u001b[0m\u001b[1;33m\u001b[0m\u001b[0m\n\u001b[0m",
      "\u001b[1;31mZeroDivisionError\u001b[0m: float division by zero"
     ]
    }
   ],
   "source": [
    "df_10_annuit_ing =  bereken_netto_salaris_en_belasting(145000, 0.0117, 30, 'annuit', 10, 0.05, verstrekker ='ING')"
   ]
  },
  {
   "cell_type": "code",
   "execution_count": 300,
   "metadata": {},
   "outputs": [
    {
     "output_type": "error",
     "ename": "NameError",
     "evalue": "name 'oorspronk_bedrag' is not defined",
     "traceback": [
      "\u001b[1;31m---------------------------------------------------------------------------\u001b[0m",
      "\u001b[1;31mNameError\u001b[0m                                 Traceback (most recent call last)",
      "\u001b[1;32m<ipython-input-300-92959146952f>\u001b[0m in \u001b[0;36m<module>\u001b[1;34m\u001b[0m\n\u001b[1;32m----> 1\u001b[1;33m \u001b[0mdf_20_annuit_ing\u001b[0m \u001b[1;33m=\u001b[0m \u001b[0mbereken_netto_salaris_en_belasting\u001b[0m\u001b[1;33m(\u001b[0m\u001b[1;36m145000\u001b[0m\u001b[1;33m,\u001b[0m \u001b[1;36m0.0154\u001b[0m\u001b[1;33m,\u001b[0m \u001b[1;36m30\u001b[0m\u001b[1;33m,\u001b[0m \u001b[1;34m'annuit'\u001b[0m\u001b[1;33m,\u001b[0m \u001b[1;36m20\u001b[0m\u001b[1;33m,\u001b[0m \u001b[1;36m0.05\u001b[0m\u001b[1;33m,\u001b[0m \u001b[0mverstrekker\u001b[0m\u001b[1;33m=\u001b[0m \u001b[1;34m'ING'\u001b[0m\u001b[1;33m)\u001b[0m\u001b[1;33m\u001b[0m\u001b[1;33m\u001b[0m\u001b[0m\n\u001b[0m",
      "\u001b[1;32m<ipython-input-298-c8d849bbc9a0>\u001b[0m in \u001b[0;36mbereken_netto_salaris_en_belasting\u001b[1;34m(hypotheek_bedrag, rente_percentage, hoeveel_jaar, type_hypotheek, rentevaste_periode, rente_na_vaste, verstrekker)\u001b[0m\n\u001b[0;32m     15\u001b[0m             \u001b[0mjaar_lasten\u001b[0m \u001b[1;33m=\u001b[0m \u001b[0mbereken_aflosvrij_hypotheek\u001b[0m\u001b[1;33m(\u001b[0m\u001b[0mhypotheek_bedrag\u001b[0m\u001b[1;33m,\u001b[0m \u001b[0mrente_percentage\u001b[0m\u001b[1;33m)\u001b[0m\u001b[1;33m\u001b[0m\u001b[1;33m\u001b[0m\u001b[0m\n\u001b[0;32m     16\u001b[0m         \u001b[1;32melif\u001b[0m \u001b[0mtype_hypotheek\u001b[0m \u001b[1;33m==\u001b[0m \u001b[1;34m'annuit'\u001b[0m\u001b[1;33m:\u001b[0m\u001b[1;33m\u001b[0m\u001b[1;33m\u001b[0m\u001b[0m\n\u001b[1;32m---> 17\u001b[1;33m             \u001b[0mrente_bedragen_annuiteit\u001b[0m \u001b[1;33m=\u001b[0m \u001b[0mbereken_annuit_hypotheek\u001b[0m\u001b[1;33m(\u001b[0m\u001b[0mhypotheek_bedrag\u001b[0m\u001b[1;33m,\u001b[0m \u001b[0mrente_percentage\u001b[0m\u001b[1;33m,\u001b[0m \u001b[0mrentevaste_periode\u001b[0m\u001b[1;33m,\u001b[0m \u001b[0mrente_na_vaste\u001b[0m\u001b[1;33m,\u001b[0m \u001b[0mverstrekker\u001b[0m\u001b[1;33m)\u001b[0m\u001b[1;33m\u001b[0m\u001b[1;33m\u001b[0m\u001b[0m\n\u001b[0m\u001b[0;32m     18\u001b[0m             \u001b[0mrest_schuld\u001b[0m \u001b[1;33m=\u001b[0m \u001b[0mrente_bedragen_annuiteit\u001b[0m\u001b[1;33m[\u001b[0m\u001b[0mjaar\u001b[0m\u001b[1;33m]\u001b[0m\u001b[1;33m[\u001b[0m\u001b[1;36m1\u001b[0m\u001b[1;33m]\u001b[0m\u001b[1;33m\u001b[0m\u001b[1;33m\u001b[0m\u001b[0m\n\u001b[0;32m     19\u001b[0m             \u001b[0mactuele_rente\u001b[0m \u001b[1;33m=\u001b[0m \u001b[0mrente_bedragen_annuiteit\u001b[0m\u001b[1;33m[\u001b[0m\u001b[0mjaar\u001b[0m\u001b[1;33m]\u001b[0m\u001b[1;33m[\u001b[0m\u001b[1;36m2\u001b[0m\u001b[1;33m]\u001b[0m\u001b[1;33m\u001b[0m\u001b[1;33m\u001b[0m\u001b[0m\n",
      "\u001b[1;32m<ipython-input-296-7dc317d33e2e>\u001b[0m in \u001b[0;36mbereken_annuit_hypotheek\u001b[1;34m(totaal_bedrag, rente_percentage, rentevaste_periode, rente_percentage_variabel, verstrekker)\u001b[0m\n\u001b[0;32m     14\u001b[0m                 \u001b[0mactuele_rente\u001b[0m \u001b[1;33m=\u001b[0m \u001b[1;33m(\u001b[0m\u001b[0mbereken_woonlastenwijzer\u001b[0m\u001b[1;33m(\u001b[0m\u001b[0mtotaal_bedrag\u001b[0m\u001b[1;33m,\u001b[0m \u001b[0mrentevaste_periode\u001b[0m\u001b[1;33m,\u001b[0m \u001b[0mrente_percentage\u001b[0m\u001b[1;33m)\u001b[0m\u001b[1;33m)\u001b[0m\u001b[1;33m\u001b[0m\u001b[1;33m\u001b[0m\u001b[0m\n\u001b[0;32m     15\u001b[0m                 \u001b[0mrente\u001b[0m \u001b[1;33m=\u001b[0m \u001b[1;33m(\u001b[0m\u001b[0mtotaal_bedrag\u001b[0m \u001b[1;33m*\u001b[0m \u001b[0mactuele_rente\u001b[0m\u001b[1;33m)\u001b[0m \u001b[1;33m/\u001b[0m \u001b[1;36m12\u001b[0m\u001b[1;33m\u001b[0m\u001b[1;33m\u001b[0m\u001b[0m\n\u001b[1;32m---> 16\u001b[1;33m                 \u001b[0mannuiteit\u001b[0m \u001b[1;33m=\u001b[0m \u001b[0mbereken_annuiteit\u001b[0m\u001b[1;33m(\u001b[0m\u001b[0moorspronk_bedrag\u001b[0m\u001b[1;33m,\u001b[0m \u001b[0mactuele_rente\u001b[0m\u001b[1;33m,\u001b[0m \u001b[1;36m360\u001b[0m\u001b[1;33m-\u001b[0m\u001b[0mx\u001b[0m\u001b[1;33m)\u001b[0m\u001b[1;33m\u001b[0m\u001b[1;33m\u001b[0m\u001b[0m\n\u001b[0m\u001b[0;32m     17\u001b[0m             \u001b[1;32melse\u001b[0m\u001b[1;33m:\u001b[0m\u001b[1;33m\u001b[0m\u001b[1;33m\u001b[0m\u001b[0m\n\u001b[0;32m     18\u001b[0m                 \u001b[0mrente\u001b[0m \u001b[1;33m=\u001b[0m \u001b[1;33m(\u001b[0m\u001b[0mtotaal_bedrag\u001b[0m \u001b[1;33m*\u001b[0m \u001b[0mrente_percentage\u001b[0m\u001b[1;33m)\u001b[0m \u001b[1;33m/\u001b[0m \u001b[1;36m12\u001b[0m\u001b[1;33m\u001b[0m\u001b[1;33m\u001b[0m\u001b[0m\n",
      "\u001b[1;31mNameError\u001b[0m: name 'oorspronk_bedrag' is not defined"
     ]
    }
   ],
   "source": [
    "df_20_annuit_ing = bereken_netto_salaris_en_belasting(145000, 0.0154, 30, 'annuit', 20, 0.05, verstrekker= 'ING')"
   ]
  },
  {
   "cell_type": "code",
   "execution_count": 290,
   "metadata": {},
   "outputs": [],
   "source": [
    "df_30_annuit_venn = bereken_netto_salaris_en_belasting(145000, 0.0184, 30, 'annuit', 30, 0, verstrekker= 'Venn')"
   ]
  },
  {
   "cell_type": "code",
   "execution_count": 291,
   "metadata": {},
   "outputs": [],
   "source": [
    "df_30_annuit_munt = bereken_netto_salaris_en_belasting(145000, 0.0175, 30, 'annuit', 30, 0, verstrekker= 'Munt')"
   ]
  },
  {
   "cell_type": "code",
   "execution_count": 292,
   "metadata": {},
   "outputs": [],
   "source": [
    "df_30_annuit_lloyds = bereken_netto_salaris_en_belasting(145000, 0.0173, 30, 'annuit', 30, 0, verstrekker= 'Lloyds')"
   ]
  },
  {
   "cell_type": "code",
   "execution_count": 293,
   "metadata": {},
   "outputs": [],
   "source": [
    "hypotheken = [df_10_annuit_ing, df_20_annuit_ing, df_30_annuit_venn, df_30_annuit_munt, df_30_annuit_lloyds]"
   ]
  },
  {
   "cell_type": "code",
   "execution_count": 294,
   "metadata": {},
   "outputs": [],
   "source": [
    "alle_dfs2 = pd.concat(hypotheken)"
   ]
  },
  {
   "cell_type": "code",
   "execution_count": 295,
   "metadata": {},
   "outputs": [],
   "source": [
    "alle_dfs2.to_csv('hypotheek.csv', sep=';')"
   ]
  },
  {
   "cell_type": "code",
   "execution_count": null,
   "metadata": {},
   "outputs": [],
   "source": [
    "[sum(x[\"Netto salaris na hypotheeklasten\"]) for x in ]"
   ]
  },
  {
   "cell_type": "code",
   "execution_count": 195,
   "metadata": {},
   "outputs": [
    {
     "output_type": "execute_result",
     "data": {
      "text/plain": [
       "1288.890000000003"
      ]
     },
     "metadata": {},
     "execution_count": 195
    }
   ],
   "source": [
    "#verschil over 20 jaar\n",
    "a = df_10_annuit_ing[df_10_annuit_ing[\"Jaar\"] <= 10]['Netto salaris na hypotheeklasten']\n",
    "b = df_20_annuit_ing[df_20_annuit_ing[\"Jaar\"] <= 10]['Netto salaris na hypotheeklasten']\n",
    "\n",
    "sum([a_i - b_i for a_i, b_i in zip(a, b)])"
   ]
  },
  {
   "cell_type": "code",
   "execution_count": 196,
   "metadata": {},
   "outputs": [
    {
     "output_type": "execute_result",
     "data": {
      "text/plain": [
       "4319.690000000028"
      ]
     },
     "metadata": {},
     "execution_count": 196
    }
   ],
   "source": [
    "a = df_20_annuit_ing[df_20_annuit_ing[\"Jaar\"] <= 30]['Netto salaris na hypotheeklasten']\n",
    "b = df_30_annuit_venn[df_30_annuit_venn[\"Jaar\"] <= 30]['Netto salaris na hypotheeklasten']\n",
    "sum([a_i - b_i for a_i, b_i in zip(a, b)])"
   ]
  },
  {
   "cell_type": "code",
   "execution_count": 630,
   "metadata": {},
   "outputs": [],
   "source": [
    "alle_dfs = pd.DataFrame()\n",
    "rente_percentages = [x * 0.00075 for x in range(18, 30)]\n",
    "for x in rente_percentages:\n",
    "    alle_dfs =alle_dfs.append(bereken_netto_salaris_en_belasting(145000, x, 30, 'annuit', 20, 0.05))\n",
    "\n",
    "rente_percentages_10 = [y * 0.00075 for y in range(13, 20)]\n",
    "for y in rente_percentages_10:\n",
    "    alle_dfs = alle_dfs.append(bereken_netto_salaris_en_belasting(145000, y, 30, 'annuit', 10, 0.05))"
   ]
  },
  {
   "cell_type": "code",
   "execution_count": 631,
   "metadata": {},
   "outputs": [],
   "source": [
    "alle_dfs.to_csv('hypotheek2.csv', sep=';')"
   ]
  },
  {
   "cell_type": "code",
   "execution_count": 633,
   "metadata": {},
   "outputs": [
    {
     "output_type": "stream",
     "name": "stdout",
     "text": [
      "Rentepercentage 0.97 Totaal rente 22297\nRentepercentage 1.05 Totaal rente 24097\nRentepercentage 1.12 Totaal rente 25910\nRentepercentage 1.20 Totaal rente 27734\nRentepercentage 1.28 Totaal rente 29571\nRentepercentage 1.35 Totaal rente 31420\nRentepercentage 1.43 Totaal rente 33280\nRentepercentage 1.50 Totaal rente 35153\nRentepercentage 1.57 Totaal rente 37037\nRentepercentage 1.65 Totaal rente 38934\nRentepercentage 1.73 Totaal rente 40842\nRentepercentage 1.80 Totaal rente 42763\nRentepercentage 1.88 Totaal rente 44695\nRentepercentage 1.95 Totaal rente 46639\nRentepercentage 2.02 Totaal rente 48595\nRentepercentage 2.10 Totaal rente 50562\nRentepercentage 2.18 Totaal rente 52541\n"
     ]
    }
   ],
   "source": [
    "# rente_percentages = [x * 0.00075 for x in range(13, 30)]\n",
    "# for x in rente_percentages:\n",
    "#     rente_bedragen_annuiteit_30_vast = bereken_annuit_hypotheek(hypotheek_bedrag, x)\n",
    "#     totaal_bedrag_aan_rente_30_vast = sum(rente_bedragen_annuiteit_30_vast.values())\n",
    "#     print('Rentepercentage', \"{:.2f}\".format(x * 100), \"Totaal rente\", \"{:.0f}\".format(totaal_bedrag_aan_rente_30_vast))"
   ]
  },
  {
   "cell_type": "code",
   "execution_count": null,
   "metadata": {},
   "outputs": [],
   "source": []
  }
 ]
}