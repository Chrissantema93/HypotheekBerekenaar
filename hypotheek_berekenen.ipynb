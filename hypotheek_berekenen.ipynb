{
 "metadata": {
  "language_info": {
   "codemirror_mode": {
    "name": "ipython",
    "version": 3
   },
   "file_extension": ".py",
   "mimetype": "text/x-python",
   "name": "python",
   "nbconvert_exporter": "python",
   "pygments_lexer": "ipython3",
   "version": "3.8.3"
  },
  "orig_nbformat": 2,
  "kernelspec": {
   "name": "python383jvsc74a57bd0c72a629dba5ae9edebcad565c17c3988d814021371aabb3db62cb04d2b10dbfe",
   "display_name": "Python 3.8.3 64-bit ('base': conda)"
  }
 },
 "nbformat": 4,
 "nbformat_minor": 2,
 "cells": [
  {
   "cell_type": "code",
   "execution_count": 401,
   "metadata": {},
   "outputs": [],
   "source": [
    "belasting_percentage_laag = 0.371\n",
    "belasting_percentage_hoog = 0.495\n",
    "belasting_top_bedrag = 68508\n",
    "\n",
    "jaar = 12\n",
    "vakantiegeld_13e_maand = 13.96\n",
    "looptijd_hypotheek = 360 # in maanden\n",
    "hypotheek_bedrag = 145000\n",
    "rente_percentage = 0.015\n",
    "\n",
    "gemiddelde_loonstijging_percentage = 1.03\n",
    "\n",
    "algemene_heffingskorting_ondergrens = 21043\n",
    "algemene_heffingskorting_middengrens = 68507\n",
    "algemene_heffingskorting_middengrens_percentage = 0.05977\n",
    "algemene_heffingskorting_ondergrens_bedrag = 2837\n",
    "\n",
    "woz_waarde = 17400\n",
    "woz_waardes = [127000, 132000, 133000, 132000,135000, 153000, 174000]\n",
    "woz_groei = 7.8\n",
    "\n",
    "maandsalaris_bruto = 3200\n",
    "totaal_jaarsalaris = maandsalaris_bruto * vakantiegeld_13e_maand\n",
    "totaal_jaarsalaris_exclusief = (maandsalaris_bruto - pensioen_heffing) * jaar\n",
    "pensioen_heffing = 138\n",
    "pensioen_heffing_jaar = pensioen_heffing * jaar\n",
    "\n",
    "import pandas as pd\n"
   ]
  },
  {
   "cell_type": "code",
   "execution_count": 402,
   "metadata": {},
   "outputs": [],
   "source": [
    "def bereken_heffingskorting(totaal_inkomen):\n",
    "    if totaal_inkomen <= algemene_heffingskorting_ondergrens:\n",
    "        return algemene_heffingskorting_ondergrens_bedrag\n",
    "    elif totaal_inkomen <= algemene_heffingskorting_middengrens:\n",
    "        return algemene_heffingskorting_ondergrens_bedrag - (algemene_heffingskorting_middengrens_percentage * (totaal_inkomen - algemene_heffingskorting_ondergrens))\n",
    "    else:\n",
    "        return 0"
   ]
  },
  {
   "cell_type": "code",
   "execution_count": 403,
   "metadata": {},
   "outputs": [],
   "source": [
    "def bereken_arbeidskorting(arbeids_inkomen):\n",
    "    arbeidskorting_beginbedrag = 4205\n",
    "    arbeidskorting_percentage = 0.06\n",
    "    arbeidskorting_grens = 35652\n",
    "    return arbeidskorting_beginbedrag - arbeidskorting_percentage * (arbeids_inkomen - arbeidskorting_grens)\n"
   ]
  },
  {
   "cell_type": "code",
   "execution_count": 404,
   "metadata": {},
   "outputs": [],
   "source": [
    "def bereken_belasting(totaal_inkomen):\n",
    "    belasting_bedrag = 0\n",
    "    if totaal_inkomen >= belasting_top_bedrag:\n",
    "        schijf_1_belasting = belasting_top_bedrag * belasting_percentage_laag\n",
    "        schijf_2_belasting = (totaal_inkomen - belasting_top_bedrag) * belasting_percentage_hoog\n",
    "        belasting_bedrag = schijf_1_belasting + schijf_2_belasting\n",
    "    else:\n",
    "        belasting_bedrag = totaal_inkomen * belasting_percentage_laag\n",
    "    return belasting_bedrag"
   ]
  },
  {
   "cell_type": "code",
   "execution_count": 405,
   "metadata": {},
   "outputs": [],
   "source": [
    "def bereken_netto_salaris(salaris, aftrekposten, jaar):\n",
    "    belastbaar_inkomen = salaris - aftrekposten\n",
    "    arbeidskorting_bedrag = bereken_arbeidskorting(salaris)\n",
    "    heffingskorting_bedrag = bereken_heffingskorting(salaris)\n",
    "    forfait = bereken_woz_waarde(woz_waarde, jaar) * 0.05\n",
    "    belastbaar_inkomen = belastbaar_inkomen + forfait\n",
    "    belasting_bedrag_totaal = bereken_belasting(belastbaar_inkomen)\n",
    "    belasting_bedrag_met_kortingen = belasting_bedrag_totaal - arbeidskorting_bedrag - heffingskorting_bedrag\n",
    "    return salaris - belasting_bedrag_met_kortingen"
   ]
  },
  {
   "cell_type": "code",
   "execution_count": 406,
   "metadata": {},
   "outputs": [],
   "source": [
    "def bereken_woz_waarde(woz_waarde, jaar):\n",
    "    return woz_waarde + (jaar * woz_groei)"
   ]
  },
  {
   "cell_type": "code",
   "execution_count": 407,
   "metadata": {},
   "outputs": [],
   "source": [
    "def bereken_annuiteit(totaal_bedrag, rente_percentage):\n",
    "    maandrente = rente_percentage / 12\n",
    "    return (maandrente / (1 - ((1 + maandrente) ** -looptijd_hypotheek))) * totaal_bedrag"
   ]
  },
  {
   "cell_type": "code",
   "execution_count": 440,
   "metadata": {
    "tags": []
   },
   "outputs": [],
   "source": [
    "# annuit hypotheek\n",
    "\n",
    "def bereken_annuit_hypotheek(totaal_bedrag, rente_percentage, rentevaste_periode=30, rente_percentage_variabel = 0):\n",
    "    rentevaste_maanden = rentevaste_periode * 12\n",
    "    annuiteit = bereken_annuiteit(totaal_bedrag, rente_percentage)\n",
    "    rente_jaren_dict = {}\n",
    "    jaren = 0\n",
    "    rentebedrag_jaar = 0\n",
    "    for i in range(360):\n",
    "        x = i + 1\n",
    "        if i < rentevaste_maanden:\n",
    "            rente = (totaal_bedrag * rente_percentage) / 12\n",
    "        else:\n",
    "            rente = (totaal_bedrag * rente_percentage_variabel) / 12\n",
    "        rentebedrag_jaar += rente\n",
    "        aflossing = annuiteit - rente\n",
    "        totaal_bedrag = totaal_bedrag - aflossing\n",
    "        if x % 12 == 0:\n",
    "            jaren += 1\n",
    "            rente_jaren_dict[jaren] = rentebedrag_jaar\n",
    "            rentebedrag_jaar = 0\n",
    "\n",
    "        # print('maand', x, 'totaalbedrag', \"{:.0f}\".format(totaal_bedrag), 'aflossing', \"{:.0f}\".format(aflossing), 'rente', \"{:.0f}\".format(rente), 'maandbedrag', \"{:.0f}\".format(aflossing+rente))\n",
    "    return rente_jaren_dict\n",
    "\n",
    "\n",
    "\n"
   ]
  },
  {
   "cell_type": "code",
   "execution_count": 426,
   "metadata": {},
   "outputs": [],
   "source": [
    "def bereken_aflosvrij_hypotheek(totaal_bedrag, rente_percentage):\n",
    "    return totaal_bedrag * rente_percentage\n",
    "        "
   ]
  },
  {
   "cell_type": "code",
   "execution_count": 427,
   "metadata": {},
   "outputs": [
    {
     "output_type": "execute_result",
     "data": {
      "text/plain": [
       "2610.0"
      ]
     },
     "metadata": {},
     "execution_count": 427
    }
   ],
   "source": [
    "bereken_aflosvrij_hypotheek(145000, 0.018)"
   ]
  },
  {
   "cell_type": "code",
   "execution_count": 454,
   "metadata": {
    "tags": []
   },
   "outputs": [
    {
     "output_type": "execute_result",
     "data": {
      "text/plain": [
       "35152.749858880496"
      ]
     },
     "metadata": {},
     "execution_count": 454
    }
   ],
   "source": [
    "# stel 30 jaar rente vast met \n",
    "rente_bedragen_annuiteit_30_vast = bereken_annuit_hypotheek(hypotheek_bedrag, rente_percentage)\n",
    "totaal_bedrag_aan_rente_30_vast = sum(rente_bedragen_annuiteit_30_vast.values())\n",
    "totaal_bedrag_aan_rente_30_vast "
   ]
  },
  {
   "cell_type": "code",
   "execution_count": null,
   "metadata": {},
   "outputs": [],
   "source": [
    " \n"
   ]
  },
  {
   "cell_type": "code",
   "execution_count": null,
   "metadata": {},
   "outputs": [],
   "source": []
  },
  {
   "cell_type": "code",
   "execution_count": 461,
   "metadata": {},
   "outputs": [
    {
     "output_type": "execute_result",
     "data": {
      "text/plain": [
       "49236.54795861744"
      ]
     },
     "metadata": {},
     "execution_count": 461
    }
   ],
   "source": [
    "rente_bedragen_annuiteit_20_vast = bereken_annuit_hypotheek(hypotheek_bedrag, 0.015, 20, 0.05)\n",
    "totaal_bedrag_aan_rente_20_vast = sum(rente_bedragen_annuiteit_20_vast.values())\n",
    "totaal_bedrag_aan_rente_20_vast"
   ]
  },
  {
   "cell_type": "code",
   "execution_count": 462,
   "metadata": {},
   "outputs": [
    {
     "output_type": "execute_result",
     "data": {
      "text/plain": [
       "70018.50117084495"
      ]
     },
     "metadata": {},
     "execution_count": 462
    }
   ],
   "source": [
    "rente_bedragen_annuiteit_15_vast = bereken_annuit_hypotheek(hypotheek_bedrag, 0.014, 15, 0.05)\n",
    "totaal_bedrag_aan_rente_15_vast = sum(rente_bedragen_annuiteit_15_vast.values())\n",
    "totaal_bedrag_aan_rente_15_vast"
   ]
  },
  {
   "cell_type": "code",
   "execution_count": 463,
   "metadata": {},
   "outputs": [
    {
     "output_type": "execute_result",
     "data": {
      "text/plain": [
       "107475.78492156796"
      ]
     },
     "metadata": {},
     "execution_count": 463
    }
   ],
   "source": [
    "rente_bedragen_annuiteit_10_vast = bereken_annuit_hypotheek(hypotheek_bedrag, 0.0113, 10, 0.05)\n",
    "totaal_bedrag_aan_rente_10_vast = sum(rente_bedragen_annuiteit_10_vast.values())\n",
    "totaal_bedrag_aan_rente_10_vast"
   ]
  },
  {
   "cell_type": "code",
   "execution_count": 411,
   "metadata": {},
   "outputs": [],
   "source": [
    "# for key, value in rente_bedragen_annuiteit.items():\n",
    "    # print(bereken_netto_salaris(totaal_jaarsalaris, value, key), value)"
   ]
  },
  {
   "cell_type": "code",
   "execution_count": 412,
   "metadata": {},
   "outputs": [
    {
     "output_type": "stream",
     "name": "stdout",
     "text": [
      "ING 466.9159725984316\nING2 478.3628096934269\nING3 503.8755072681438\n"
     ]
    }
   ],
   "source": [
    "# verschillende rentepercentages berekenen\n",
    "rente_percentages_banken = {\n",
    "    'ING' : 0.0096,\n",
    "    'ING2' : 0.0113,\n",
    "    'ING3' : 0.015,\n",
    "    \n",
    "}\n",
    "for key, value in rente_percentages_banken.items():\n",
    "    print(key, bereken_annuiteit(146000, value))"
   ]
  },
  {
   "cell_type": "code",
   "execution_count": 623,
   "metadata": {},
   "outputs": [],
   "source": [
    "from dateutil.relativedelta import relativedelta\n",
    "from datetime import datetime\n",
    "\n",
    "def bereken_netto_salaris_en_belasting(hypotheek_bedrag, rente_percentage, hoeveel_jaar, type_hypotheek, rentevaste_periode = 30, rente_na_vaste = 0):\n",
    "    bruto_salaris = totaal_jaarsalaris\n",
    "    kolommen = ['Hypotheektype', 'Hypotheekbedrag', 'Rentepercentage', 'Rentevaste periode', 'Verstrekker', 'Jaar', 'Datum', 'Bruto', 'Netto', 'Bedrag kwijt', 'Percentage kwijt', 'Jaarlasten hypotheek', 'Netto salaris na hypotheeklasten']\n",
    "    dataframe = pd.DataFrame(columns=kolommen)\n",
    "    verstrekker = 'Hypothetisch'\n",
    "    if (rente_percentage == 0.015 and rentevaste_periode == 20) or (rente_percentage == 0.0113 and rentevaste_periode == 10):\n",
    "        verstrekker = \"ING\"\n",
    "    for i in range(hoeveel_jaar):\n",
    "        jaar = i + 1\n",
    "        jaar_lasten = 0\n",
    "        nu = datetime.now()\n",
    "        nieuwe_datum = (nu + relativedelta(years=jaar)).strftime(\"%Y-%m-%d\")\n",
    "        if type_hypotheek == 'aflosvrij':\n",
    "            netto_salaris = bereken_netto_salaris(bruto_salaris, 0, jaar)\n",
    "            jaar_lasten = bereken_aflosvrij_hypotheek(hypotheek_bedrag, rente_percentage)\n",
    "        elif type_hypotheek == 'annuit':\n",
    "            rente_bedragen_annuiteit = bereken_annuit_hypotheek(hypotheek_bedrag, rente_percentage, rentevaste_periode, rente_na_vaste)\n",
    "            netto_salaris = bereken_netto_salaris(bruto_salaris, rente_bedragen_annuiteit[jaar], jaar)\n",
    "            jaar_lasten = bereken_annuiteit(hypotheek_bedrag, rente_percentage) * 12\n",
    "        \n",
    "        belasting_bedrag = netto_salaris - bruto_salaris\n",
    "        belasting_percentage = 100 - ((netto_salaris / bruto_salaris) * 100)\n",
    "        \n",
    "        rij = {'Hypotheektype': type_hypotheek,\n",
    "        'Hypotheekbedrag' : hypotheek_bedrag,\n",
    "         'Jaar': jaar, \n",
    "         'Datum': nieuwe_datum,\n",
    "         'Rentepercentage' : \"{:.2%}\".format(rente_percentage),\n",
    "         'Rentevaste periode' : rentevaste_periode,\n",
    "         'Verstrekker' : verstrekker,\n",
    "         'Bruto': float(\"{:.2f}\".format(bruto_salaris)), \n",
    "         'Netto': float(\"{:.2f}\".format(netto_salaris)),\n",
    "         'Bedrag kwijt' : float(\"{:.2f}\".format(belasting_bedrag)),\n",
    "         'Percentage kwijt' : float(\"{:.2f}\".format(belasting_percentage)),\n",
    "         'Jaarlasten hypotheek' : float(\"{:.2f}\".format(jaar_lasten)),\n",
    "         'Netto salaris na hypotheeklasten' : float(\"{:.2f}\".format(netto_salaris - jaar_lasten)) \n",
    "         }\n",
    "        dataframe = dataframe.append(rij, ignore_index = True)\n",
    "        bruto_salaris = bruto_salaris * gemiddelde_loonstijging_percentage\n",
    "    return dataframe\n",
    "        \n",
    "        \n",
    "\n",
    "# print('Jaar', jaar, 'Bruto',\"{:.0f}\".format(bruto_salaris), 'Netto', \"{:.0f}\".format(netto_salaris), 'Bedrag kwijt',\"{:.0f}\".format(belasting_bedrag), 'Percentage kwijt', \"{:.2f}\".format(belasting_percentage), 'Jaarlasten hypotheek', \"{:.0f}\".format(jaar_lasten), \"Netto salaris na hypotheeklasten\", \"{:.0f}\".format(netto_salaris - jaar_lasten))\n",
    "#nog berekenen met de maandlasten wat ik dan precies kwijt ben\n"
   ]
  },
  {
   "cell_type": "code",
   "execution_count": 624,
   "metadata": {},
   "outputs": [
    {
     "output_type": "execute_result",
     "data": {
      "text/plain": [
       "  Hypotheektype Hypotheekbedrag Rentepercentage Rentevaste periode  \\\n",
       "0     aflosvrij          145000           1.80%                 30   \n",
       "1     aflosvrij          145000           1.80%                 30   \n",
       "2     aflosvrij          145000           1.80%                 30   \n",
       "3     aflosvrij          145000           1.80%                 30   \n",
       "4     aflosvrij          145000           1.80%                 30   \n",
       "5     aflosvrij          145000           1.80%                 30   \n",
       "6     aflosvrij          145000           1.80%                 30   \n",
       "\n",
       "    Verstrekker Jaar       Datum     Bruto     Netto  Bedrag kwijt  \\\n",
       "0  Hypothetisch    1  2022-04-11  44672.00  32864.27     -11807.73   \n",
       "1  Hypothetisch    2  2023-04-11  46012.16  33546.57     -12465.59   \n",
       "2  Hypothetisch    3  2024-04-11  47392.52  34249.35     -13143.17   \n",
       "3  Hypothetisch    4  2025-04-11  48814.30  34973.22     -13841.08   \n",
       "4  Hypothetisch    5  2026-04-11  50278.73  35718.80     -14559.93   \n",
       "5  Hypothetisch    6  2027-04-11  51787.09  36486.76     -15300.33   \n",
       "6  Hypothetisch    7  2028-04-11  53340.70  37277.76     -16062.94   \n",
       "\n",
       "   Percentage kwijt  Jaarlasten hypotheek  Netto salaris na hypotheeklasten  \n",
       "0             26.43                2610.0                          30254.27  \n",
       "1             27.09                2610.0                          30936.57  \n",
       "2             27.73                2610.0                          31639.35  \n",
       "3             28.35                2610.0                          32363.22  \n",
       "4             28.96                2610.0                          33108.80  \n",
       "5             29.54                2610.0                          33876.76  \n",
       "6             30.11                2610.0                          34667.76  "
      ],
      "text/html": "<div>\n<style scoped>\n    .dataframe tbody tr th:only-of-type {\n        vertical-align: middle;\n    }\n\n    .dataframe tbody tr th {\n        vertical-align: top;\n    }\n\n    .dataframe thead th {\n        text-align: right;\n    }\n</style>\n<table border=\"1\" class=\"dataframe\">\n  <thead>\n    <tr style=\"text-align: right;\">\n      <th></th>\n      <th>Hypotheektype</th>\n      <th>Hypotheekbedrag</th>\n      <th>Rentepercentage</th>\n      <th>Rentevaste periode</th>\n      <th>Verstrekker</th>\n      <th>Jaar</th>\n      <th>Datum</th>\n      <th>Bruto</th>\n      <th>Netto</th>\n      <th>Bedrag kwijt</th>\n      <th>Percentage kwijt</th>\n      <th>Jaarlasten hypotheek</th>\n      <th>Netto salaris na hypotheeklasten</th>\n    </tr>\n  </thead>\n  <tbody>\n    <tr>\n      <th>0</th>\n      <td>aflosvrij</td>\n      <td>145000</td>\n      <td>1.80%</td>\n      <td>30</td>\n      <td>Hypothetisch</td>\n      <td>1</td>\n      <td>2022-04-11</td>\n      <td>44672.00</td>\n      <td>32864.27</td>\n      <td>-11807.73</td>\n      <td>26.43</td>\n      <td>2610.0</td>\n      <td>30254.27</td>\n    </tr>\n    <tr>\n      <th>1</th>\n      <td>aflosvrij</td>\n      <td>145000</td>\n      <td>1.80%</td>\n      <td>30</td>\n      <td>Hypothetisch</td>\n      <td>2</td>\n      <td>2023-04-11</td>\n      <td>46012.16</td>\n      <td>33546.57</td>\n      <td>-12465.59</td>\n      <td>27.09</td>\n      <td>2610.0</td>\n      <td>30936.57</td>\n    </tr>\n    <tr>\n      <th>2</th>\n      <td>aflosvrij</td>\n      <td>145000</td>\n      <td>1.80%</td>\n      <td>30</td>\n      <td>Hypothetisch</td>\n      <td>3</td>\n      <td>2024-04-11</td>\n      <td>47392.52</td>\n      <td>34249.35</td>\n      <td>-13143.17</td>\n      <td>27.73</td>\n      <td>2610.0</td>\n      <td>31639.35</td>\n    </tr>\n    <tr>\n      <th>3</th>\n      <td>aflosvrij</td>\n      <td>145000</td>\n      <td>1.80%</td>\n      <td>30</td>\n      <td>Hypothetisch</td>\n      <td>4</td>\n      <td>2025-04-11</td>\n      <td>48814.30</td>\n      <td>34973.22</td>\n      <td>-13841.08</td>\n      <td>28.35</td>\n      <td>2610.0</td>\n      <td>32363.22</td>\n    </tr>\n    <tr>\n      <th>4</th>\n      <td>aflosvrij</td>\n      <td>145000</td>\n      <td>1.80%</td>\n      <td>30</td>\n      <td>Hypothetisch</td>\n      <td>5</td>\n      <td>2026-04-11</td>\n      <td>50278.73</td>\n      <td>35718.80</td>\n      <td>-14559.93</td>\n      <td>28.96</td>\n      <td>2610.0</td>\n      <td>33108.80</td>\n    </tr>\n    <tr>\n      <th>5</th>\n      <td>aflosvrij</td>\n      <td>145000</td>\n      <td>1.80%</td>\n      <td>30</td>\n      <td>Hypothetisch</td>\n      <td>6</td>\n      <td>2027-04-11</td>\n      <td>51787.09</td>\n      <td>36486.76</td>\n      <td>-15300.33</td>\n      <td>29.54</td>\n      <td>2610.0</td>\n      <td>33876.76</td>\n    </tr>\n    <tr>\n      <th>6</th>\n      <td>aflosvrij</td>\n      <td>145000</td>\n      <td>1.80%</td>\n      <td>30</td>\n      <td>Hypothetisch</td>\n      <td>7</td>\n      <td>2028-04-11</td>\n      <td>53340.70</td>\n      <td>37277.76</td>\n      <td>-16062.94</td>\n      <td>30.11</td>\n      <td>2610.0</td>\n      <td>34667.76</td>\n    </tr>\n  </tbody>\n</table>\n</div>"
     },
     "metadata": {},
     "execution_count": 624
    }
   ],
   "source": [
    "bereken_netto_salaris_en_belasting(145000, 0.018, 7, 'aflosvrij')"
   ]
  },
  {
   "cell_type": "code",
   "execution_count": 625,
   "metadata": {},
   "outputs": [],
   "source": [
    "df_10_annuit =  bereken_netto_salaris_en_belasting(145000, 0.0113, 30, 'annuit', 10, 0.05)"
   ]
  },
  {
   "cell_type": "code",
   "execution_count": 626,
   "metadata": {},
   "outputs": [],
   "source": [
    "df_20_annuit = bereken_netto_salaris_en_belasting(145000, 0.015, 30, 'annuit', 20, 0.05)"
   ]
  },
  {
   "cell_type": "code",
   "execution_count": 627,
   "metadata": {},
   "outputs": [],
   "source": [
    "df_30_annuit = bereken_netto_salaris_en_belasting(145000, 0.02, 30, 'annuit')"
   ]
  },
  {
   "cell_type": "code",
   "execution_count": 628,
   "metadata": {},
   "outputs": [],
   "source": [
    "alle_dfs2 = pd.concat([df_10_annuit, df_20_annuit, df_30_annuit])"
   ]
  },
  {
   "cell_type": "code",
   "execution_count": 629,
   "metadata": {},
   "outputs": [],
   "source": [
    "alle_dfs2.to_csv('hypotheek.csv', sep=';')"
   ]
  },
  {
   "cell_type": "code",
   "execution_count": 630,
   "metadata": {},
   "outputs": [],
   "source": [
    "alle_dfs = pd.DataFrame()\n",
    "rente_percentages = [x * 0.00075 for x in range(18, 30)]\n",
    "for x in rente_percentages:\n",
    "    alle_dfs =alle_dfs.append(bereken_netto_salaris_en_belasting(145000, x, 30, 'annuit', 20, 0.05))\n",
    "\n",
    "rente_percentages_10 = [y * 0.00075 for y in range(13, 20)]\n",
    "for y in rente_percentages_10:\n",
    "    alle_dfs = alle_dfs.append(bereken_netto_salaris_en_belasting(145000, y, 30, 'annuit', 10, 0.05))"
   ]
  },
  {
   "cell_type": "code",
   "execution_count": 631,
   "metadata": {},
   "outputs": [],
   "source": [
    "alle_dfs.to_csv('hypotheek.csv', sep=';')"
   ]
  },
  {
   "cell_type": "code",
   "execution_count": 590,
   "metadata": {},
   "outputs": [],
   "source": []
  },
  {
   "cell_type": "code",
   "execution_count": 632,
   "metadata": {},
   "outputs": [
    {
     "output_type": "execute_result",
     "data": {
      "text/plain": [
       "  Hypotheektype Hypotheekbedrag Rentepercentage Rentevaste periode  \\\n",
       "0        annuit          145000           1.13%                 30   \n",
       "1        annuit          145000           1.13%                 30   \n",
       "2        annuit          145000           1.13%                 30   \n",
       "3        annuit          145000           1.13%                 30   \n",
       "4        annuit          145000           1.13%                 30   \n",
       "5        annuit          145000           1.13%                 30   \n",
       "6        annuit          145000           1.13%                 30   \n",
       "\n",
       "    Verstrekker Jaar       Datum     Bruto     Netto  Bedrag kwijt  \\\n",
       "0  Hypothetisch    1  2022-04-11  44672.00  33464.32     -11207.68   \n",
       "1  Hypothetisch    2  2023-04-11  46012.16  34129.42     -11882.74   \n",
       "2  Hypothetisch    3  2024-04-11  47392.52  34814.79     -12577.73   \n",
       "3  Hypothetisch    4  2025-04-11  48814.30  35521.06     -13293.25   \n",
       "4  Hypothetisch    5  2026-04-11  50278.73  36248.84     -14029.89   \n",
       "5  Hypothetisch    6  2027-04-11  51787.09  36998.79     -14788.30   \n",
       "6  Hypothetisch    7  2028-04-11  53340.70  37771.59     -15569.12   \n",
       "\n",
       "   Percentage kwijt  Jaarlasten hypotheek  Netto salaris na hypotheeklasten  \n",
       "0             25.09               5701.04                          27763.28  \n",
       "1             25.83               5701.04                          28428.38  \n",
       "2             26.54               5701.04                          29113.76  \n",
       "3             27.23               5701.04                          29820.02  \n",
       "4             27.90               5701.04                          30547.80  \n",
       "5             28.56               5701.04                          31297.76  \n",
       "6             29.19               5701.04                          32070.55  "
      ],
      "text/html": "<div>\n<style scoped>\n    .dataframe tbody tr th:only-of-type {\n        vertical-align: middle;\n    }\n\n    .dataframe tbody tr th {\n        vertical-align: top;\n    }\n\n    .dataframe thead th {\n        text-align: right;\n    }\n</style>\n<table border=\"1\" class=\"dataframe\">\n  <thead>\n    <tr style=\"text-align: right;\">\n      <th></th>\n      <th>Hypotheektype</th>\n      <th>Hypotheekbedrag</th>\n      <th>Rentepercentage</th>\n      <th>Rentevaste periode</th>\n      <th>Verstrekker</th>\n      <th>Jaar</th>\n      <th>Datum</th>\n      <th>Bruto</th>\n      <th>Netto</th>\n      <th>Bedrag kwijt</th>\n      <th>Percentage kwijt</th>\n      <th>Jaarlasten hypotheek</th>\n      <th>Netto salaris na hypotheeklasten</th>\n    </tr>\n  </thead>\n  <tbody>\n    <tr>\n      <th>0</th>\n      <td>annuit</td>\n      <td>145000</td>\n      <td>1.13%</td>\n      <td>30</td>\n      <td>Hypothetisch</td>\n      <td>1</td>\n      <td>2022-04-11</td>\n      <td>44672.00</td>\n      <td>33464.32</td>\n      <td>-11207.68</td>\n      <td>25.09</td>\n      <td>5701.04</td>\n      <td>27763.28</td>\n    </tr>\n    <tr>\n      <th>1</th>\n      <td>annuit</td>\n      <td>145000</td>\n      <td>1.13%</td>\n      <td>30</td>\n      <td>Hypothetisch</td>\n      <td>2</td>\n      <td>2023-04-11</td>\n      <td>46012.16</td>\n      <td>34129.42</td>\n      <td>-11882.74</td>\n      <td>25.83</td>\n      <td>5701.04</td>\n      <td>28428.38</td>\n    </tr>\n    <tr>\n      <th>2</th>\n      <td>annuit</td>\n      <td>145000</td>\n      <td>1.13%</td>\n      <td>30</td>\n      <td>Hypothetisch</td>\n      <td>3</td>\n      <td>2024-04-11</td>\n      <td>47392.52</td>\n      <td>34814.79</td>\n      <td>-12577.73</td>\n      <td>26.54</td>\n      <td>5701.04</td>\n      <td>29113.76</td>\n    </tr>\n    <tr>\n      <th>3</th>\n      <td>annuit</td>\n      <td>145000</td>\n      <td>1.13%</td>\n      <td>30</td>\n      <td>Hypothetisch</td>\n      <td>4</td>\n      <td>2025-04-11</td>\n      <td>48814.30</td>\n      <td>35521.06</td>\n      <td>-13293.25</td>\n      <td>27.23</td>\n      <td>5701.04</td>\n      <td>29820.02</td>\n    </tr>\n    <tr>\n      <th>4</th>\n      <td>annuit</td>\n      <td>145000</td>\n      <td>1.13%</td>\n      <td>30</td>\n      <td>Hypothetisch</td>\n      <td>5</td>\n      <td>2026-04-11</td>\n      <td>50278.73</td>\n      <td>36248.84</td>\n      <td>-14029.89</td>\n      <td>27.90</td>\n      <td>5701.04</td>\n      <td>30547.80</td>\n    </tr>\n    <tr>\n      <th>5</th>\n      <td>annuit</td>\n      <td>145000</td>\n      <td>1.13%</td>\n      <td>30</td>\n      <td>Hypothetisch</td>\n      <td>6</td>\n      <td>2027-04-11</td>\n      <td>51787.09</td>\n      <td>36998.79</td>\n      <td>-14788.30</td>\n      <td>28.56</td>\n      <td>5701.04</td>\n      <td>31297.76</td>\n    </tr>\n    <tr>\n      <th>6</th>\n      <td>annuit</td>\n      <td>145000</td>\n      <td>1.13%</td>\n      <td>30</td>\n      <td>Hypothetisch</td>\n      <td>7</td>\n      <td>2028-04-11</td>\n      <td>53340.70</td>\n      <td>37771.59</td>\n      <td>-15569.12</td>\n      <td>29.19</td>\n      <td>5701.04</td>\n      <td>32070.55</td>\n    </tr>\n  </tbody>\n</table>\n</div>"
     },
     "metadata": {},
     "execution_count": 632
    }
   ],
   "source": [
    "bereken_netto_salaris_en_belasting(145000, 0.0113, 7, 'annuit')"
   ]
  },
  {
   "cell_type": "code",
   "execution_count": 633,
   "metadata": {},
   "outputs": [
    {
     "output_type": "stream",
     "name": "stdout",
     "text": [
      "Rentepercentage 0.97 Totaal rente 22297\nRentepercentage 1.05 Totaal rente 24097\nRentepercentage 1.12 Totaal rente 25910\nRentepercentage 1.20 Totaal rente 27734\nRentepercentage 1.28 Totaal rente 29571\nRentepercentage 1.35 Totaal rente 31420\nRentepercentage 1.43 Totaal rente 33280\nRentepercentage 1.50 Totaal rente 35153\nRentepercentage 1.57 Totaal rente 37037\nRentepercentage 1.65 Totaal rente 38934\nRentepercentage 1.73 Totaal rente 40842\nRentepercentage 1.80 Totaal rente 42763\nRentepercentage 1.88 Totaal rente 44695\nRentepercentage 1.95 Totaal rente 46639\nRentepercentage 2.02 Totaal rente 48595\nRentepercentage 2.10 Totaal rente 50562\nRentepercentage 2.18 Totaal rente 52541\n"
     ]
    }
   ],
   "source": [
    "rente_percentages = [x * 0.00075 for x in range(13, 30)]\n",
    "for x in rente_percentages:\n",
    "    rente_bedragen_annuiteit_30_vast = bereken_annuit_hypotheek(hypotheek_bedrag, x)\n",
    "    totaal_bedrag_aan_rente_30_vast = sum(rente_bedragen_annuiteit_30_vast.values())\n",
    "    print('Rentepercentage', \"{:.2f}\".format(x * 100), \"Totaal rente\", \"{:.0f}\".format(totaal_bedrag_aan_rente_30_vast))"
   ]
  },
  {
   "cell_type": "code",
   "execution_count": null,
   "metadata": {},
   "outputs": [],
   "source": []
  }
 ]
}